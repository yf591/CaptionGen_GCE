{
 "cells": [
  {
   "cell_type": "code",
   "execution_count": null,
   "metadata": {},
   "outputs": [],
   "source": [
    "# 必要なライブラリのインストール\n",
    "!pip install -q torch transformers accelerate Pillow"
   ]
  },
  {
   "cell_type": "code",
   "execution_count": null,
   "metadata": {},
   "outputs": [],
   "source": [
    "# # Hugging Face へのログイン（必要に応じて）\n",
    "# from huggingface_hub import notebook_login\n",
    "# notebook_login()"
   ]
  },
  {
   "cell_type": "code",
   "execution_count": null,
   "metadata": {},
   "outputs": [],
   "source": [
    "from transformers import InstructBlipProcessor, InstructBlipForConditionalGeneration\n",
    "import torch\n",
    "from PIL import Image\n",
    "import gc\n",
    "import os\n",
    "import zipfile\n",
    "\n",
    "from google.colab import files, drive"
   ]
  },
  {
   "cell_type": "code",
   "execution_count": null,
   "metadata": {},
   "outputs": [],
   "source": [
    "class CaptionGenerator:\n",
    "    def __init__(self, model_name=\"Salesforce/instructblip-vicuna-7b\", batch_size=1):\n",
    "        self.device = \"cuda\" if torch.cuda.is_available() else \"cpu\"\n",
    "        self.processor = InstructBlipProcessor.from_pretrained(model_name)\n",
    "        self.model = InstructBlipForConditionalGeneration.from_pretrained(\n",
    "            model_name, torch_dtype=torch.float16\n",
    "        ).to(self.device)\n",
    "        self.batch_size = batch_size\n",
    "        self.prompt = \"\"\"\n",
    "            Describe the person in the image in detail.\n",
    "            Focus on the following aspects:\n",
    "            - Face: Describe their facial features, expression, and any visible emotions.\n",
    "            - Clothing: Describe what they are wearing, including the type of clothing, color, and style.\n",
    "            - Body: Describe their body shape, posture, and any notable physical characteristics.\n",
    "            - Style tags: Provide relevant style tags that describe the overall aesthetic of the image (e.g., photorealistic, anime, painting, etc.).\n",
    "            \"\"\"\n",
    "\n",
    "    def generate_caption(self, image_paths, output_dir=\"output_captions\"):\n",
    "        \"\"\"\n",
    "        複数の画像パスを受け取り、それぞれの画像に対するキャプションを生成し、テキストファイルに保存します。\n",
    "        \"\"\"\n",
    "        os.makedirs(output_dir, exist_ok=True)  # 出力ディレクトリを作成\n",
    "\n",
    "        images = []\n",
    "        image_filenames = []  # ファイル名を保存するためのリスト\n",
    "        for image_path in image_paths:\n",
    "            try:\n",
    "                image = Image.open(image_path).convert(\"RGB\")\n",
    "                images.append(image)\n",
    "                image_filenames.append(os.path.basename(image_path)) # ファイル名を取得\n",
    "            except Exception as e:\n",
    "                print(f\"Error: Could not open image file: {image_path}\")\n",
    "                print(e)\n",
    "                continue\n",
    "\n",
    "        if not images:\n",
    "            return [\"Error: Could not open any image files.\"]\n",
    "\n",
    "        captions = []\n",
    "        for i in range(0, len(images), self.batch_size):\n",
    "            batch_images = images[i:i + self.batch_size]\n",
    "            batch_filenames = image_filenames[i:i + self.batch_size] # ファイル名を取得\n",
    "\n",
    "            inputs = self.processor(images=batch_images, text=self.prompt, return_tensors=\"pt\", padding=True, truncation=True).to(self.device, torch.float16)\n",
    "\n",
    "            with torch.no_grad():\n",
    "                outputs = self.model.generate(**inputs, max_new_tokens=500)\n",
    "\n",
    "            batch_captions = self.processor.batch_decode(outputs, skip_special_tokens=True)\n",
    "            captions.extend(batch_captions)\n",
    "\n",
    "            # キャプションをファイルに保存\n",
    "            for j, caption in enumerate(batch_captions):\n",
    "                # プロンプト部分を削除\n",
    "                caption = caption.replace(self.prompt, \"\").strip()\n",
    "\n",
    "                output_filename = os.path.splitext(batch_filenames[j])[0] + \".txt\"\n",
    "                output_path = os.path.join(output_dir, output_filename)\n",
    "                with open(output_path, \"w\") as f:\n",
    "                    f.write(caption)\n",
    "                print(f\"Caption for {batch_filenames[j]} saved to {output_path}\")\n",
    "\n",
    "            del inputs, outputs\n",
    "            gc.collect()\n",
    "            torch.cuda.empty_cache()\n",
    "\n",
    "        # 生成されたキャプションとファイル名を返す\n",
    "        return list(zip(captions, image_filenames))"
   ]
  },
  {
   "cell_type": "code",
   "execution_count": null,
   "metadata": {},
   "outputs": [],
   "source": [
    "# マウントされていない場合は、Google Driveをマウント\n",
    "if not os.path.exists(\"/content/drive\"):\n",
    "    drive.mount('/content/drive')"
   ]
  },
  {
   "cell_type": "code",
   "execution_count": null,
   "metadata": {},
   "outputs": [],
   "source": [
    "def select_local_folder():\n",
    "    \"\"\"ローカルからフォルダをzipでアップロード\"\"\"\n",
    "    uploaded = files.upload()\n",
    "    if not uploaded:\n",
    "        print(\"No files uploaded. Exiting.\")\n",
    "        return \"\"\n",
    "\n",
    "    zip_file_name = list(uploaded.keys())[0]\n",
    "    with zipfile.ZipFile(zip_file_name, 'r') as zip_ref:\n",
    "        zip_ref.extractall(\"/content/uploaded_folder\")  # /content/uploaded_folder に展開\n",
    "    \n",
    "    # アップロードされたzipファイルを削除\n",
    "    os.remove(zip_file_name)\n",
    "\n",
    "    return \"/content/uploaded_folder\"  # 展開したフォルダのパスを返す\n",
    "\n",
    "def select_drive_folder():\n",
    "    \"\"\"Google Driveからフォルダを選択\"\"\"\n",
    "    folder_path = input(\"Enter the path to the folder in your Google Drive: \")\n",
    "    # 入力が空でないか検証\n",
    "    if not folder_path:\n",
    "        print(\"No path entered. Exiting.\")\n",
    "        return \"\"\n",
    "    # パスが /content/drive/MyDrive で始まるかチェック\n",
    "    if folder_path.startswith(\"/content/drive/MyDrive\"):\n",
    "        return folder_path\n",
    "    else:\n",
    "        # パスの先頭が /content/drive/MyDrive でない場合は追加\n",
    "        return \"/content/drive/MyDrive/\" + folder_path"
   ]
  },
  {
   "cell_type": "code",
   "execution_count": null,
   "metadata": {},
   "outputs": [],
   "source": [
    "# ユーザーに選択方法を尋ねる\n",
    "choice = input(\"Choose the source for image folder:\\n1. Local (upload zip file)\\n2. Google Drive\\nEnter choice (1 or 2): \")\n",
    "\n",
    "if choice == \"1\":\n",
    "    folder_path = select_local_folder()\n",
    "elif choice == \"2\":\n",
    "    folder_path = select_drive_folder()\n",
    "else:\n",
    "    print(\"Invalid choice. Exiting.\")\n",
    "    exit()\n",
    "\n",
    "# 選択されたフォルダパスの確認\n",
    "print(f\"Selected folder path: {folder_path}\")"
   ]
  },
  {
   "cell_type": "code",
   "execution_count": null,
   "metadata": {},
   "outputs": [],
   "source": [
    "# 画像ファイルパスのリストを取得\n",
    "image_paths = [os.path.join(folder_path, f) for f in os.listdir(folder_path) if os.path.isfile(os.path.join(folder_path, f)) and f.lower().endswith(('.png', '.jpg', '.jpeg', '.bmp', '.gif'))]\n",
    "\n",
    "# 出力先ディレクトリをリポジトリ内に設定\n",
    "output_dir = \"/content/drive/MyDrive/Colab Notebooks/CaptionGen_GCE/output_captions\"  # 出力先をリポジトリ内の output_captions に設定\n",
    "os.makedirs(output_dir, exist_ok=True)  # ディレクトリが存在しない場合は作成"
   ]
  },
  {
   "cell_type": "code",
   "execution_count": null,
   "metadata": {},
   "outputs": [],
   "source": [
    "# バッチサイズを指定\n",
    "generator = CaptionGenerator(batch_size=1)  # バッチサイズを適宜設定"
   ]
  },
  {
   "cell_type": "code",
   "execution_count": null,
   "metadata": {},
   "outputs": [],
   "source": [
    "captions_with_filenames = generator.generate_caption(image_paths, output_dir=output_dir)"
   ]
  },
  {
   "cell_type": "code",
   "execution_count": null,
   "metadata": {},
   "outputs": [],
   "source": [
    "# 生成されたキャプションとファイル名を表示\n",
    "for caption, filename in captions_with_filenames:\n",
    "    print(f\"Caption for {filename}: {caption}\")"
   ]
  }
 ],
 "metadata": {
  "language_info": {
   "name": "python"
  }
 },
 "nbformat": 4,
 "nbformat_minor": 2
}
